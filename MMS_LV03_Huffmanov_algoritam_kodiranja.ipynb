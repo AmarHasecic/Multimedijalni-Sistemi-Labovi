{
 "cells": [
  {
   "cell_type": "markdown",
   "id": "entire-tension",
   "metadata": {},
   "source": [
    "Univerzitet u Sarajevu\n",
    "<br> Elektrotehnički fakultet\n",
    "#### **Predmet: Multimedijalni Sistemi**\n",
    "\n",
    "# Laboratorijska vježba 03:  Huffmanov algoritam kodiranja\n",
    "\n",
    "---"
   ]
  },
  {
   "cell_type": "markdown",
   "id": "ignored-foundation",
   "metadata": {},
   "source": [
    "Za izradu laboratorijske vježbe treba koristiti odgovarajuću Jupyter Notebook datoteku. Urađenu vježbu je potrebno konvertirati u PDF format, a zatim je PDF datoteku potrebno predati do postavljenog roka koristeći platformu Zamger."
   ]
  },
  {
   "cell_type": "markdown",
   "id": "heated-thirty",
   "metadata": {},
   "source": [
    "Ime i prezime studenta, broj indeksa:"
   ]
  },
  {
   "cell_type": "markdown",
   "id": "affiliated-workplace",
   "metadata": {},
   "source": [
    "Amar Hasečić, 18673/2116"
   ]
  },
  {
   "cell_type": "markdown",
   "id": "green-cross",
   "metadata": {},
   "source": [
    "Datum izrade izvještaja:"
   ]
  },
  {
   "cell_type": "markdown",
   "id": "going-content",
   "metadata": {},
   "source": [
    "26.3.2024."
   ]
  },
  {
   "cell_type": "markdown",
   "id": "medical-version",
   "metadata": {},
   "source": [
    "---\n",
    "\n",
    "## Zadatak 1.\n",
    "\n",
    "Potrebno je realizirati **Huffmanov algoritam** kodiranja implementacijom funkcije <code>huffman</code> koja kao parametar prima neku tekstualnu poruku, a kao rezultat vraća listu simbola i listu svih kodova dodijeljenih pojedinačnim simbolima. Možete koristiti funkcije <code>kodiraj</code> i <code>entropija</code> koje su implementirane u prethodnoj laboratorijskoj vježbi, kao i dijelove koda koji se mogu iskoristiti za ovaj algoritam (npr. izračunavanje vjerovatnoće pojavljivanja simbola u poruci).\n",
    "\n",
    "Huffmanov algoritam se temelji na izgradnji stabla od \"dna prema vrhu\", za razliku od algoritma Shannon-Fano koji izgrađuje stablo od \"vrha prema dnu\". Koraci huffmanovog algoritma su:\n",
    "\n",
    "1. Za zadanu listu simbola, izračunati vjerovatnoće pojavljivanja u poruci.\n",
    "\n",
    "2. Sortirati simbole prema frekvenciji od najveće do najmanje frekvencije.\n",
    "\n",
    "3. Iz liste uzeti dva elementa s najmanjom vjerovatnoćom pojavljivanja, jednom elementu dodati vrijednost 0, a drugom dodati vrijednost 1. Voditi računa da se dodavanje simbola vrši na suprotan način u odnosu na Shannon-Fano algoritam kodiranja.\n",
    "\n",
    "4. Prethodno odabrane elemente dodati u zajedničko podstablo. Podstablo se tretira kao jedan element, a njegova vjerovatnoća pojavljivanja jednaka je sumi vjerovatnoća pojavljivanja simbola koji se nalaze u podstablu.\n",
    "\n",
    "5. Ponovo sortirati listu simbola prema vjerovatnoći pojavljivanja.\n",
    "\n",
    "5. Ponavljati korake 3, 4 i 5 dok u listi ne preostane samo jedan element.\n",
    "\n",
    "Detaljne informacije o samom algoritmu moguće je pronaći u Poglavlju 2 materijala za rad na predmetu, na str. 25 - 29.\n",
    "\n",
    "Dobivena rješenja za kodne riječi nisu jedinstvena, tj. dobivena rješenja za kodne riječi ovise o specifičnim implementacijskim detaljima. Bitno je da implementacija bude realizirana u skladu sa gore opisanim koracima, tj. u skladu sa algoritmom opisanim na predavanjima."
   ]
  },
  {
   "cell_type": "markdown",
   "id": "dressed-astrology",
   "metadata": {},
   "source": [
    "**Rješenje:**"
   ]
  },
  {
   "cell_type": "code",
   "execution_count": 1,
   "id": "subjective-medium",
   "metadata": {},
   "outputs": [],
   "source": [
    "def huffman(poruka):\n",
    "\n",
    "    simboli = list(set(poruka))\n",
    "    vjerovatnoce = [0]*len(simboli)\n",
    "    kodovi = ['']*len(simboli)\n",
    "\n",
    "    for i in range(len(simboli)):\n",
    "        for simbol in poruka:\n",
    "            if simboli[i] == simbol:\n",
    "                vjerovatnoce[i]+=1\n",
    "        vjerovatnoce[i]/=len(poruka)\n",
    "    \n",
    "    simbol_kod_p = []\n",
    "    for i in range(len(simboli)):\n",
    "        simbol_kod_p.append(([(simboli[i], kodovi[i])], vjerovatnoce[i]))\n",
    "    \n",
    "\n",
    "    simbol_kod_p = sorted(simbol_kod_p, key=lambda x: x[0]) # po alfabetu radi testova\n",
    "\n",
    "    if len(simbol_kod_p) == 1:\n",
    "        return [simboli[0]], ['0']\n",
    "\n",
    "    while len(simbol_kod_p) != 1:\n",
    "        #sortiranje po vjerovatnocama\n",
    "        simbol_kod_p = sorted(simbol_kod_p, key=lambda x: x[1], reverse=True)\n",
    "\n",
    "        #zadnje dvije liste sa najmanjim vjerovatnocama\n",
    "        predzadnji = simbol_kod_p[len(simbol_kod_p) - 2]\n",
    "        zadnji = simbol_kod_p[len(simbol_kod_p) - 1]\n",
    "\n",
    "        #dodavanje nule i jedinice na kodove simbola\n",
    "        modified_predzadnji = [(kod[0], '0' + kod[1]) for kod in predzadnji[0]]\n",
    "        predzadnji = (modified_predzadnji, predzadnji[1])\n",
    "\n",
    "        modified_zadnji = [(kod[0], '1' + kod[1]) for kod in zadnji[0]]\n",
    "        zadnji = (modified_zadnji, zadnji[1])\n",
    "\n",
    "\n",
    "        #spajanje zadnje i predzadnje podliste i racunanje njihove ukupne vjerovatnoce\n",
    "        spojen_zadnji_predzadnji = (predzadnji[0] + zadnji[0], predzadnji[1] + zadnji[1])\n",
    "\n",
    "        #brisanje zadnjeg i predzadnjeg i dodavanje novog skupa smbola, ovo bi bilo ono podstablo\n",
    "        del simbol_kod_p[len(simbol_kod_p) - 1]\n",
    "        del simbol_kod_p[len(simbol_kod_p) - 1]\n",
    "        simbol_kod_p.append(spojen_zadnji_predzadnji)\n",
    "\n",
    "\n",
    "    simboli = [pair[0] for pair in simbol_kod_p[0][0]]  \n",
    "    kodovi = [pair[1] for pair in simbol_kod_p[0][0]]  \n",
    "    \n",
    "    return simboli, kodovi\n"
   ]
  },
  {
   "cell_type": "code",
   "execution_count": 2,
   "id": "82d0962f",
   "metadata": {},
   "outputs": [],
   "source": [
    "def kodiraj(poruka, simboli, kodovi):\n",
    "    kodirana = \"\"\n",
    "    for simbol in poruka:\n",
    "        kodirana+=kodovi[simboli.index(simbol)]\n",
    "    return kodirana"
   ]
  },
  {
   "cell_type": "code",
   "execution_count": 3,
   "id": "6e623fe7",
   "metadata": {},
   "outputs": [],
   "source": [
    "import math\n",
    "def entropija(poruka):\n",
    "\n",
    "    simboli = list(set(poruka))\n",
    "    vjerovatnoce = [0]*len(simboli)\n",
    "    for i in range(len(simboli)):\n",
    "        for simbol in poruka:\n",
    "            if simboli[i] == simbol:\n",
    "                vjerovatnoce[i]+=1\n",
    "        vjerovatnoce[i]/=len(poruka)\n",
    "        \n",
    "    rezultat = 0\n",
    "\n",
    "    for v in vjerovatnoce:\n",
    "        rezultat += v * math.log(v,2)\n",
    "    \n",
    "    rezultat *= -1\n",
    "\n",
    "    return abs(rezultat)"
   ]
  },
  {
   "cell_type": "markdown",
   "id": "protecting-strengthening",
   "metadata": {},
   "source": [
    "Nakon implementacije funkcije, potrebno je biti moguće izvršiti programski kod ispod tako da daje prikazani ispis. Osim toga, potrebno je pored poruke \"BBBAAAAAAAABBCDAAA\" dodati još četiri primjera poruka kako bi se implementacija testirala. Dodatna četiri primjera poruka trebaju obavezno biti iz sljedećeg skupa {\"A\", \"DDDDDDDDDDDDDDDDDD\", \"ABBBBCDECCCCAAAAAAAAAAAAAA\", \"AAAAAAAAAABBBBBBCCCD\"}."
   ]
  },
  {
   "cell_type": "code",
   "execution_count": 4,
   "id": "baking-stamp",
   "metadata": {},
   "outputs": [
    {
     "name": "stdout",
     "output_type": "stream",
     "text": [
      "Izvorna poruka je:\n",
      "BBBAAAAAAAABBCDAAA\n",
      "\n",
      "Poruka se sastoji od sljedećih simbola:\n",
      "A, B, C, D\n",
      "\n",
      "Skup dobivenih kodnih riječi je:\n",
      "0, 10, 110, 111\n",
      "\n",
      "Kod simbola A je 0\n",
      "\n",
      "Kod simbola B je 10\n",
      "\n",
      "Kod simbola C je 110\n",
      "\n",
      "Kod simbola D je 111\n",
      "\n",
      "Kodirana poruka je:\n",
      "101010000000001010110111000\n",
      "\n",
      "Entropija poruke je:\n",
      "1.411\n",
      "\n",
      "Prosječna dužina kodne riječi u poruci je:\n",
      "1.5\n"
     ]
    }
   ],
   "source": [
    "import math\n",
    "poruka = \"BBBAAAAAAAABBCDAAA\"\n",
    "\n",
    "print(\"Izvorna poruka je:\")\n",
    "print(poruka)\n",
    "\n",
    "(simboli, kodovi) = huffman(poruka)\n",
    "\n",
    "print(\"\\nPoruka se sastoji od sljedećih simbola:\")\n",
    "print(\", \".join(map(str, simboli))) \n",
    "\n",
    "print(\"\\nSkup dobivenih kodnih riječi je:\")\n",
    "print(\", \".join(map(str, kodovi))) \n",
    "\n",
    "kodirana = kodiraj(poruka, simboli, kodovi)\n",
    "\n",
    "for i in range(len(simboli)):\n",
    "  print(\"\\nKod simbola \" + simboli[i] + \" je \" + kodovi [i])\n",
    "\n",
    "print(\"\\nKodirana poruka je:\")\n",
    "print(kodirana) \n",
    "print(\"\\nEntropija poruke je:\")\n",
    "print(round(entropija(poruka),3))\n",
    "print(\"\\nProsječna dužina kodne riječi u poruci je:\")\n",
    "print(round(len(kodirana)/len(poruka),3))"
   ]
  },
  {
   "cell_type": "code",
   "execution_count": 5,
   "id": "ca020bcd",
   "metadata": {},
   "outputs": [
    {
     "name": "stdout",
     "output_type": "stream",
     "text": [
      "Izvorna poruka je:\n",
      "A\n",
      "\n",
      "Poruka se sastoji od sljedecih simbola:\n",
      "A\n",
      "\n",
      "Skup dobivenih kodnih riječi je:\n",
      "0\n",
      "\n",
      "Kod simbola A je 0\n",
      "\n",
      "Kodirana poruka je:\n",
      "0\n",
      "\n",
      "Entropija poruke je:\n",
      "0.0\n",
      "\n",
      "Prosječna dužina kodne riječi u poruci je:\n",
      "1.0\n"
     ]
    }
   ],
   "source": [
    "#Test 1\n",
    "import math\n",
    "poruka = \"A\"\n",
    "print(\"Izvorna poruka je:\")\n",
    "print(poruka)\n",
    "\n",
    "(simboli, kodovi) = huffman(poruka)\n",
    "\n",
    "print(\"\\nPoruka se sastoji od sljedecih simbola:\")\n",
    "print(\", \".join(map(str, simboli))) \n",
    "\n",
    "print(\"\\nSkup dobivenih kodnih riječi je:\")\n",
    "print(\", \".join(map(str, kodovi))) \n",
    "\n",
    "kodirana = kodiraj(poruka, simboli, kodovi)\n",
    "\n",
    "for i in range(len(simboli)):\n",
    "  print(\"\\nKod simbola \" + simboli[i] + \" je \" + kodovi [i])\n",
    "\n",
    "print(\"\\nKodirana poruka je:\")\n",
    "print(kodirana)\n",
    "print(\"\\nEntropija poruke je:\")\n",
    "print(round(entropija(poruka),3))\n",
    "print(\"\\nProsječna dužina kodne riječi u poruci je:\")\n",
    "print(round(len(kodirana)/len(poruka),3))"
   ]
  },
  {
   "cell_type": "code",
   "execution_count": 6,
   "id": "b6f7fa9f",
   "metadata": {},
   "outputs": [
    {
     "name": "stdout",
     "output_type": "stream",
     "text": [
      "Izvorna poruka je:\n",
      "DDDDDDDDDDDDDDDDDD\n",
      "\n",
      "Poruka se sastoji od sljedecih simbola:\n",
      "D\n",
      "\n",
      "Skup dobivenih kodnih riječi je:\n",
      "0\n",
      "\n",
      "Kod simbola D je 0\n",
      "\n",
      "Kodirana poruka je:\n",
      "000000000000000000\n",
      "\n",
      "Entropija poruke je:\n",
      "0.0\n",
      "\n",
      "Prosječna dužina kodne riječi u poruci je:\n",
      "1.0\n"
     ]
    }
   ],
   "source": [
    "#Test 2\n",
    "\n",
    "import math\n",
    "poruka = \"DDDDDDDDDDDDDDDDDD\"\n",
    "print(\"Izvorna poruka je:\")\n",
    "print(poruka)\n",
    "\n",
    "(simboli, kodovi) = huffman(poruka)\n",
    "\n",
    "print(\"\\nPoruka se sastoji od sljedecih simbola:\")\n",
    "print(\", \".join(map(str, simboli))) \n",
    "\n",
    "print(\"\\nSkup dobivenih kodnih riječi je:\")\n",
    "print(\", \".join(map(str, kodovi))) \n",
    "\n",
    "kodirana = kodiraj(poruka, simboli, kodovi)\n",
    "\n",
    "for i in range(len(simboli)):\n",
    "  print(\"\\nKod simbola \" + simboli[i] + \" je \" + kodovi [i])\n",
    "\n",
    "print(\"\\nKodirana poruka je:\")\n",
    "print(kodirana)\n",
    "print(\"\\nEntropija poruke je:\")\n",
    "print(round(entropija(poruka),3))\n",
    "print(\"\\nProsječna dužina kodne riječi u poruci je:\")\n",
    "print(round(len(kodirana)/len(poruka),3))\n"
   ]
  },
  {
   "cell_type": "code",
   "execution_count": 8,
   "id": "b73f7f90",
   "metadata": {},
   "outputs": [
    {
     "name": "stdout",
     "output_type": "stream",
     "text": [
      "Izvorna poruka je:\n",
      "ABBBBCDECCCCAAAAAAAAAAAAAA\n",
      "\n",
      "Poruka se sastoji od sljedecih simbola:\n",
      "A, B, D, E, C\n",
      "\n",
      "Skup dobivenih kodnih riječi je:\n",
      "0, 100, 1010, 1011, 11\n",
      "\n",
      "Kod simbola A je 0\n",
      "\n",
      "Kod simbola B je 100\n",
      "\n",
      "Kod simbola D je 1010\n",
      "\n",
      "Kod simbola E je 1011\n",
      "\n",
      "Kod simbola C je 11\n",
      "\n",
      "Kodirana poruka je:\n",
      "010010010010011101010111111111100000000000000\n",
      "\n",
      "Entropija poruke je:\n",
      "1.692\n",
      "\n",
      "Prosječna dužina kodne riječi u poruci je:\n",
      "1.731\n"
     ]
    }
   ],
   "source": [
    "#Test 3\n",
    "\n",
    "import math\n",
    "poruka = \"ABBBBCDECCCCAAAAAAAAAAAAAA\"\n",
    "print(\"Izvorna poruka je:\")\n",
    "print(poruka)\n",
    "\n",
    "(simboli, kodovi) = huffman(poruka)\n",
    "\n",
    "print(\"\\nPoruka se sastoji od sljedecih simbola:\")\n",
    "print(\", \".join(map(str, simboli))) \n",
    "\n",
    "print(\"\\nSkup dobivenih kodnih riječi je:\")\n",
    "print(\", \".join(map(str, kodovi))) \n",
    "\n",
    "kodirana = kodiraj(poruka, simboli, kodovi)\n",
    "\n",
    "for i in range(len(simboli)):\n",
    "  print(\"\\nKod simbola \" + simboli[i] + \" je \" + kodovi [i])\n",
    "\n",
    "print(\"\\nKodirana poruka je:\")\n",
    "print(kodirana)\n",
    "print(\"\\nEntropija poruke je:\")\n",
    "print(round(entropija(poruka),3))\n",
    "print(\"\\nProsječna dužina kodne riječi u poruci je:\")\n",
    "print(round(len(kodirana)/len(poruka),3))\n"
   ]
  },
  {
   "cell_type": "code",
   "execution_count": 10,
   "id": "9562b5d3",
   "metadata": {},
   "outputs": [
    {
     "name": "stdout",
     "output_type": "stream",
     "text": [
      "Izvorna poruka je:\n",
      "AAAAAAAAAABBBBBBCCCD\n",
      "\n",
      "Poruka se sastoji od sljedecih simbola:\n",
      "A, B, C, D\n",
      "\n",
      "Skup dobivenih kodnih riječi je:\n",
      "0, 10, 110, 111\n",
      "\n",
      "Kod simbola A je 0\n",
      "\n",
      "Kod simbola B je 10\n",
      "\n",
      "Kod simbola C je 110\n",
      "\n",
      "Kod simbola D je 111\n",
      "\n",
      "Kodirana poruka je:\n",
      "0000000000101010101010110110110111\n",
      "\n",
      "Entropija poruke je:\n",
      "1.648\n",
      "\n",
      "Prosječna dužina kodne riječi u poruci je:\n",
      "1.7\n"
     ]
    }
   ],
   "source": [
    "#Test 4\n",
    "\n",
    "import math\n",
    "poruka = \"AAAAAAAAAABBBBBBCCCD\"\n",
    "print(\"Izvorna poruka je:\")\n",
    "print(poruka)\n",
    "\n",
    "(simboli, kodovi) = huffman(poruka)\n",
    "\n",
    "print(\"\\nPoruka se sastoji od sljedecih simbola:\")\n",
    "print(\", \".join(map(str, simboli))) \n",
    "\n",
    "print(\"\\nSkup dobivenih kodnih riječi je:\")\n",
    "print(\", \".join(map(str, kodovi))) \n",
    "\n",
    "kodirana = kodiraj(poruka, simboli, kodovi)\n",
    "\n",
    "for i in range(len(simboli)):\n",
    "  print(\"\\nKod simbola \" + simboli[i] + \" je \" + kodovi [i])\n",
    "\n",
    "print(\"\\nKodirana poruka je:\")\n",
    "print(kodirana)\n",
    "print(\"\\nEntropija poruke je:\")\n",
    "print(round(entropija(poruka),3))\n",
    "print(\"\\nProsječna dužina kodne riječi u poruci je:\")\n",
    "print(round(len(kodirana)/len(poruka),3))"
   ]
  }
 ],
 "metadata": {
  "kernelspec": {
   "display_name": "Python 3 (ipykernel)",
   "language": "python",
   "name": "python3"
  },
  "language_info": {
   "codemirror_mode": {
    "name": "ipython",
    "version": 3
   },
   "file_extension": ".py",
   "mimetype": "text/x-python",
   "name": "python",
   "nbconvert_exporter": "python",
   "pygments_lexer": "ipython3",
   "version": "3.11.8"
  }
 },
 "nbformat": 4,
 "nbformat_minor": 5
}
