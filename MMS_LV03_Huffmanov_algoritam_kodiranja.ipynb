{
 "cells": [
  {
   "cell_type": "markdown",
   "id": "entire-tension",
   "metadata": {},
   "source": [
    "Univerzitet u Sarajevu\n",
    "<br> Elektrotehnički fakultet\n",
    "#### **Predmet: Multimedijalni Sistemi**\n",
    "\n",
    "# Laboratorijska vježba 03:  Huffmanov algoritam kodiranja\n",
    "\n",
    "---"
   ]
  },
  {
   "cell_type": "markdown",
   "id": "ignored-foundation",
   "metadata": {},
   "source": [
    "Za izradu laboratorijske vježbe treba koristiti odgovarajuću Jupyter Notebook datoteku. Urađenu vježbu je potrebno konvertirati u PDF format, a zatim je PDF datoteku potrebno predati do postavljenog roka koristeći platformu Zamger."
   ]
  },
  {
   "cell_type": "markdown",
   "id": "heated-thirty",
   "metadata": {},
   "source": [
    "Ime i prezime studenta, broj indeksa:"
   ]
  },
  {
   "cell_type": "markdown",
   "id": "affiliated-workplace",
   "metadata": {},
   "source": [
    "Amar Hasečić, 18673/2116"
   ]
  },
  {
   "cell_type": "markdown",
   "id": "green-cross",
   "metadata": {},
   "source": [
    "Datum izrade izvještaja:"
   ]
  },
  {
   "cell_type": "markdown",
   "id": "going-content",
   "metadata": {},
   "source": [
    "26.3.2024."
   ]
  },
  {
   "cell_type": "markdown",
   "id": "medical-version",
   "metadata": {},
   "source": [
    "---\n",
    "\n",
    "## Zadatak 1.\n",
    "\n",
    "Potrebno je realizirati **Huffmanov algoritam** kodiranja implementacijom funkcije <code>huffman</code> koja kao parametar prima neku tekstualnu poruku, a kao rezultat vraća listu simbola i listu svih kodova dodijeljenih pojedinačnim simbolima. Možete koristiti funkcije <code>kodiraj</code> i <code>entropija</code> koje su implementirane u prethodnoj laboratorijskoj vježbi, kao i dijelove koda koji se mogu iskoristiti za ovaj algoritam (npr. izračunavanje vjerovatnoće pojavljivanja simbola u poruci).\n",
    "\n",
    "Huffmanov algoritam se temelji na izgradnji stabla od \"dna prema vrhu\", za razliku od algoritma Shannon-Fano koji izgrađuje stablo od \"vrha prema dnu\". Koraci huffmanovog algoritma su:\n",
    "\n",
    "1. Za zadanu listu simbola, izračunati vjerovatnoće pojavljivanja u poruci.\n",
    "\n",
    "2. Sortirati simbole prema frekvenciji od najveće do najmanje frekvencije.\n",
    "\n",
    "3. Iz liste uzeti dva elementa s najmanjom vjerovatnoćom pojavljivanja, jednom elementu dodati vrijednost 0, a drugom dodati vrijednost 1. Voditi računa da se dodavanje simbola vrši na suprotan način u odnosu na Shannon-Fano algoritam kodiranja.\n",
    "\n",
    "4. Prethodno odabrane elemente dodati u zajedničko podstablo. Podstablo se tretira kao jedan element, a njegova vjerovatnoća pojavljivanja jednaka je sumi vjerovatnoća pojavljivanja simbola koji se nalaze u podstablu.\n",
    "\n",
    "5. Ponovo sortirati listu simbola prema vjerovatnoći pojavljivanja.\n",
    "\n",
    "5. Ponavljati korake 3, 4 i 5 dok u listi ne preostane samo jedan element.\n",
    "\n",
    "Detaljne informacije o samom algoritmu moguće je pronaći u Poglavlju 2 materijala za rad na predmetu, na str. 25 - 29.\n",
    "\n",
    "Dobivena rješenja za kodne riječi nisu jedinstvena, tj. dobivena rješenja za kodne riječi ovise o specifičnim implementacijskim detaljima. Bitno je da implementacija bude realizirana u skladu sa gore opisanim koracima, tj. u skladu sa algoritmom opisanim na predavanjima."
   ]
  },
  {
   "cell_type": "markdown",
   "id": "dressed-astrology",
   "metadata": {},
   "source": [
    "**Rješenje:**"
   ]
  },
  {
   "cell_type": "code",
   "execution_count": 1,
   "id": "subjective-medium",
   "metadata": {},
   "outputs": [],
   "source": []
  },
  {
   "cell_type": "markdown",
   "id": "protecting-strengthening",
   "metadata": {},
   "source": [
    "Nakon implementacije funkcije, potrebno je biti moguće izvršiti programski kod ispod tako da daje prikazani ispis. Osim toga, potrebno je pored poruke \"BBBAAAAAAAABBCDAAA\" dodati još četiri primjera poruka kako bi se implementacija testirala. Dodatna četiri primjera poruka trebaju obavezno biti iz sljedećeg skupa {\"A\", \"DDDDDDDDDDDDDDDDDD\", \"ABBBBCDECCCCAAAAAAAAAAAAAA\", \"AAAAAAAAAABBBBBBCCCD\"}."
   ]
  },
  {
   "cell_type": "code",
   "execution_count": 2,
   "id": "baking-stamp",
   "metadata": {},
   "outputs": [
    {
     "name": "stdout",
     "output_type": "stream",
     "text": [
      "Izvorna poruka je:\n",
      "BBBAAAAAAAABBCDAAA\n",
      "\n",
      "Poruka se sastoji od sljedećih simbola:\n",
      "A, B, C, D\n",
      "\n",
      "Skup dobivenih kodnih riječi je:\n",
      "0, 10, 110, 111\n",
      "\n",
      "Kod simbola A je 0\n",
      "\n",
      "Kod simbola B je 10\n",
      "\n",
      "Kod simbola C je 110\n",
      "\n",
      "Kod simbola D je 111\n",
      "\n",
      "Kodirana poruka je:\n",
      "101010000000001010110111000\n",
      "\n",
      "Entropija poruke je:\n",
      "1.411\n",
      "\n",
      "Prosječna dužina kodne riječi u poruci je:\n",
      "1.5\n"
     ]
    }
   ],
   "source": [
    "import math\n",
    "poruka = \"BBBAAAAAAAABBCDAAA\"\n",
    "\n",
    "print(\"Izvorna poruka je:\")\n",
    "print(poruka)\n",
    "\n",
    "(simboli, kodovi) = huffman(poruka)\n",
    "\n",
    "print(\"\\nPoruka se sastoji od sljedećih simbola:\")\n",
    "print(\", \".join(map(str, simboli))) \n",
    "\n",
    "print(\"\\nSkup dobivenih kodnih riječi je:\")\n",
    "print(\", \".join(map(str, kodovi))) \n",
    "\n",
    "kodirana = kodiraj(poruka, simboli, kodovi)\n",
    "\n",
    "for i in range(len(simboli)):\n",
    "  print(\"\\nKod simbola \" + simboli[i] + \" je \" + kodovi [i])\n",
    "\n",
    "print(\"\\nKodirana poruka je:\")\n",
    "print(kodirana) \n",
    "print(\"\\nEntropija poruke je:\")\n",
    "print(round(entropija(poruka),3))\n",
    "print(\"\\nProsječna dužina kodne riječi u poruci je:\")\n",
    "print(round(len(kodirana)/len(poruka),3))"
   ]
  }
 ],
 "metadata": {
  "kernelspec": {
   "display_name": "Python 3 (ipykernel)",
   "language": "python",
   "name": "python3"
  },
  "language_info": {
   "codemirror_mode": {
    "name": "ipython",
    "version": 3
   },
   "file_extension": ".py",
   "mimetype": "text/x-python",
   "name": "python",
   "nbconvert_exporter": "python",
   "pygments_lexer": "ipython3",
   "version": "3.9.7"
  }
 },
 "nbformat": 4,
 "nbformat_minor": 5
}
