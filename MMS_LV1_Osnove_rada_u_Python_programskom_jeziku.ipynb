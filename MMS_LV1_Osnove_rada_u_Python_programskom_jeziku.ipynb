{
 "cells": [
  {
   "cell_type": "markdown",
   "id": "mighty-equipment",
   "metadata": {},
   "source": [
    "Univerzitet u Sarajevu\n",
    "<br> Elektrotehnički fakultet\n",
    "#### **Predmet: Multimedijalni Sistemi**\n",
    "\n",
    "# Laboratorijska vježba 1:  Osnove rada u  programskom jeziku Python\n",
    "\n",
    "---"
   ]
  },
  {
   "cell_type": "markdown",
   "id": "incredible-lloyd",
   "metadata": {},
   "source": [
    "Za izradu laboratorijske vježbe treba koristiti odgovarajuću Jupyter Notebook datoteku. Urađenu vježbu je potrebno konvertirati u PDF format, a zatim je PDF datoteku potrebno predati do postavljenog roka koristeći platformu Zamger."
   ]
  },
  {
   "cell_type": "markdown",
   "id": "medieval-premium",
   "metadata": {},
   "source": [
    "Ime i prezime studenta, broj indeksa:"
   ]
  },
  {
   "cell_type": "markdown",
   "id": "charming-front",
   "metadata": {},
   "source": [
    "Amar Hasečić, 2116/18673"
   ]
  },
  {
   "cell_type": "markdown",
   "id": "dbdd8b0f",
   "metadata": {},
   "source": [
    "Datum izrade izvještaja:"
   ]
  },
  {
   "cell_type": "markdown",
   "id": "forced-receiver",
   "metadata": {},
   "source": [
    " 13.03.2024."
   ]
  },
  {
   "cell_type": "markdown",
   "id": "golden-shower",
   "metadata": {},
   "source": [
    "---\n",
    "\n",
    "## Zadatak 1.\n",
    "\n",
    "Implementirati funkciju <code>sortiraj</code> koja kao argument prima Python listu realnih brojeva i sortira je od najvećeg ka najmanjem koristeći algoritam *Bubble Sort*."
   ]
  },
  {
   "cell_type": "markdown",
   "id": "effective-hughes",
   "metadata": {},
   "source": [
    "**Rješenje:**"
   ]
  },
  {
   "cell_type": "code",
   "execution_count": 4,
   "id": "outdoor-automation",
   "metadata": {
    "scrolled": true
   },
   "outputs": [],
   "source": [
    "def swap(a, b):\n",
    "    return b, a\n",
    "\n",
    "def sortiraj(lista):\n",
    "    for i in range(1,len(lista)):\n",
    "        for j in range(0,len(lista)-1):\n",
    "            if lista[j] > lista[j+1]:\n",
    "                lista[j],lista[j+1] = swap(lista[j],lista[j+1])\n",
    "\n",
    "    return lista\n",
    "    "
   ]
  },
  {
   "cell_type": "markdown",
   "id": "micro-sector",
   "metadata": {},
   "source": [
    "Nakon implementacije funkcije, potrebno je biti moguće izvršiti programski kod ispod tako da daje prikazani ispis. Osim toga, potrebno je dodati još primjera kako bi se implementacija adekvatno testirala."
   ]
  },
  {
   "cell_type": "code",
   "execution_count": 5,
   "id": "focused-detection",
   "metadata": {
    "scrolled": true
   },
   "outputs": [
    {
     "name": "stdout",
     "output_type": "stream",
     "text": [
      "-1, 2, 5, 6, 9, 10\n"
     ]
    }
   ],
   "source": [
    "niz = [10, 9, -1, 2, 5, 6]\n",
    "sortirani_niz = sortiraj(niz)\n",
    "print(\", \".join(map(str, sortirani_niz))) "
   ]
  },
  {
   "cell_type": "code",
   "execution_count": 6,
   "id": "b9c9978b",
   "metadata": {},
   "outputs": [
    {
     "name": "stdout",
     "output_type": "stream",
     "text": [
      "-1, -1, 1, 2, 2, 4, 5, 8\n"
     ]
    }
   ],
   "source": [
    "niz = [2,-1,-1,5,8,4,2,1]\n",
    "sortirani_niz = sortiraj(niz)\n",
    "print(\", \".join(map(str, sortirani_niz))) "
   ]
  },
  {
   "cell_type": "code",
   "execution_count": 7,
   "id": "04f19a3f",
   "metadata": {},
   "outputs": [
    {
     "name": "stdout",
     "output_type": "stream",
     "text": [
      "-4, -3, -2, -1\n"
     ]
    }
   ],
   "source": [
    "niz = [-1,-2,-3,-4]\n",
    "sortirani_niz = sortiraj(niz)\n",
    "print(\", \".join(map(str, sortirani_niz))) "
   ]
  },
  {
   "cell_type": "markdown",
   "id": "armed-romance",
   "metadata": {},
   "source": [
    "---\n",
    "\n",
    "## Zadatak 2.\n",
    "\n",
    "Implementirati funkciju <code> max_na_intervalu(f, a, b, step) </code> koja kao argument prima neku funkciju *f* i vraća maksimalnu vrijednost (rezultat poziva funkcije) na segmentu *[a, b]*. Koristiti korak diskretizacije *step* koji se prosljeđuje kao argument funkcije. Za provjeru koristiti dvije funkcije koje su definisane u kodu ispod."
   ]
  },
  {
   "cell_type": "code",
   "execution_count": 8,
   "id": "resident-mercy",
   "metadata": {
    "scrolled": true
   },
   "outputs": [],
   "source": [
    "def f1(x):\n",
    "    return x\n",
    "\n",
    "def f2(x):\n",
    "    return x-2"
   ]
  },
  {
   "cell_type": "markdown",
   "id": "affecting-giant",
   "metadata": {},
   "source": [
    "**Rješenje:**"
   ]
  },
  {
   "cell_type": "code",
   "execution_count": 9,
   "id": "informal-andrews",
   "metadata": {
    "scrolled": true
   },
   "outputs": [],
   "source": [
    "def max_na_intervalu(f, a, b, step):\n",
    "    lista = []\n",
    "    for i in range(a,b+1,step):\n",
    "        lista.append(f(i))\n",
    "    \n",
    "    return max(lista)\n",
    "        "
   ]
  },
  {
   "cell_type": "markdown",
   "id": "incorporated-there",
   "metadata": {},
   "source": [
    "Nakon implementacije funkcije, potrebno je biti moguće izvršiti programski kod ispod tako da daje prikazani ispis. Osim toga, potrebno je dodati još primjera kako bi se implementacija adekvatno testirala."
   ]
  },
  {
   "cell_type": "code",
   "execution_count": 10,
   "id": "reasonable-phrase",
   "metadata": {
    "scrolled": true
   },
   "outputs": [
    {
     "name": "stdout",
     "output_type": "stream",
     "text": [
      "Maksimalna vrijednost poziva funkcija f(x) = x na segmentu [0, 10] sa korakom 1 je: 10\n",
      "Maksimalna vrijednost poziva funkcija f(x) = x-2 na segmentu [0, 10] sa korakom 1 je: 8\n"
     ]
    }
   ],
   "source": [
    "maksimum = max_na_intervalu(f1, 0, 10, 1)\n",
    "\n",
    "print(\"Maksimalna vrijednost poziva funkcija f(x) = x na segmentu [0, 10] sa korakom 1 je: \" + str(maksimum)) \n",
    "\n",
    "maksimum = max_na_intervalu(f2, 0, 10, 1)\n",
    "\n",
    "print(\"Maksimalna vrijednost poziva funkcija f(x) = x-2 na segmentu [0, 10] sa korakom 1 je: \" + str(maksimum)) "
   ]
  },
  {
   "cell_type": "code",
   "execution_count": 12,
   "id": "7c0d5319",
   "metadata": {},
   "outputs": [
    {
     "name": "stdout",
     "output_type": "stream",
     "text": [
      "Maksimalna vrijednost poziva funkcija f(x) = x na segmentu [0, 10] sa korakom 1 je: 15\n",
      "Maksimalna vrijednost poziva funkcija f(x) = x-2 na segmentu [0, 10] sa korakom 1 je: 22\n"
     ]
    }
   ],
   "source": [
    "maksimum = max_na_intervalu(f1, 10, 15, 1)\n",
    "\n",
    "print(\"Maksimalna vrijednost poziva funkcija f(x) = x na segmentu [0, 10] sa korakom 1 je: \" + str(maksimum)) \n",
    "\n",
    "maksimum = max_na_intervalu(f2, 18, 24, 1)\n",
    "\n",
    "print(\"Maksimalna vrijednost poziva funkcija f(x) = x-2 na segmentu [0, 10] sa korakom 1 je: \" + str(maksimum)) "
   ]
  },
  {
   "cell_type": "code",
   "execution_count": 35,
   "id": "b80bb32e",
   "metadata": {},
   "outputs": [
    {
     "name": "stdout",
     "output_type": "stream",
     "text": [
      "Maksimalna vrijednost poziva funkcija f(x) = x na segmentu [0, 10] sa korakom 1 je: 15\n"
     ]
    }
   ],
   "source": [
    "#negativan step\n",
    "maksimum = max_na_intervalu(f1, 15, 10, -1)\n",
    "\n",
    "print(\"Maksimalna vrijednost poziva funkcija f(x) = x na segmentu [0, 10] sa korakom 1 je: \" + str(maksimum)) "
   ]
  },
  {
   "cell_type": "markdown",
   "id": "mathematical-constitutional",
   "metadata": {},
   "source": [
    "---\n",
    "\n",
    "## Zadatak 3.\n",
    "\n",
    "Definisati skup od 5 slova u Pythonu kao listu (['A', 'B', 'C', 'D', 'E']). Nakon toga, korištenjem <code>random.choice()</code> funkcije u Pythonu implementirati funkciju <code>generiši</code> za generisanje liste od proizvoljno mnogo znakova slučajno odabranih iz skupa od 5 slova. Implementirati funkciju <code>analiziraj</code> koja vraća listu sa frekvencijama pojavljivanja svakog slova u generisanoj listi i ispisuje slovo koje se najviše puta pojavljuje.\n",
    "\n",
    "**Napomena:**\n",
    "\n",
    "Obavezno prvo izvršiti import biblioteke <code>random</code>."
   ]
  },
  {
   "cell_type": "markdown",
   "id": "educated-clear",
   "metadata": {},
   "source": [
    "**Rješenje:**"
   ]
  },
  {
   "cell_type": "code",
   "execution_count": 33,
   "id": "underlying-airfare",
   "metadata": {
    "scrolled": true
   },
   "outputs": [],
   "source": [
    "import random\n",
    "from collections import Counter\n",
    "\n",
    "slova = ['A','B','C','D','E']\n",
    "\n",
    "def generiši(n):\n",
    "    lista = []\n",
    "    for i in range(n):\n",
    "       lista.append(random.choice(slova)) \n",
    "    return lista\n",
    "\n",
    "def analiziraj(lista):\n",
    "    frekvencije = {char: lista.count(char) for char in slova}\n",
    "    return list(frekvencije.values()), max(frekvencije, key = frekvencije.get)\n",
    "\n"
   ]
  },
  {
   "cell_type": "markdown",
   "id": "heated-understanding",
   "metadata": {},
   "source": [
    "Nakon implementacije funkcije, potrebno je biti moguće izvršiti programski kod ispod tako da daje prikazani ispis. Osim toga, potrebno je dodati još primjera kako bi se implementacija adekvatno testirala."
   ]
  },
  {
   "cell_type": "code",
   "execution_count": 34,
   "id": "sublime-crack",
   "metadata": {
    "scrolled": true
   },
   "outputs": [
    {
     "name": "stdout",
     "output_type": "stream",
     "text": [
      "Lista generisanih slova je: AECADCCDAD\n",
      "Karakter A se u generisanoj listi ponavlja 3 puta.\n",
      "Karakter B se u generisanoj listi ponavlja 0 puta.\n",
      "Karakter C se u generisanoj listi ponavlja 3 puta.\n",
      "Karakter D se u generisanoj listi ponavlja 3 puta.\n",
      "Karakter E se u generisanoj listi ponavlja 1 puta.\n",
      "Najveći broj ponavljanja u listi frekvencija je A.\n"
     ]
    }
   ],
   "source": [
    "lista = generiši(10)\n",
    "\n",
    "print(\"Lista generisanih slova je: \" + \"\".join(map(str, lista))) \n",
    "\n",
    "(frekvencije, najveći) = analiziraj(lista)\n",
    "\n",
    "for i in range(0, 5):\n",
    "    print(\"Karakter \" + slova[i] + \" se u generisanoj listi ponavlja \" + str(frekvencije[i]) + \" puta.\")\n",
    "    # za prethodni primjer brojevi ponavljanja: (A, B, C, D, E): (1, 4, 3, 1, 1)\n",
    "\n",
    "print(\"Najveći broj ponavljanja u listi frekvencija je \" + str(najveći) + \".\") "
   ]
  },
  {
   "cell_type": "markdown",
   "id": "japanese-greeting",
   "metadata": {},
   "source": [
    "---\n",
    "\n",
    "## Zadatak 4.\n",
    "\n",
    "Implementirati Python klasu *Matrica* koja sadržava jedan atribut *elementi* koji čuva elemente matrice. Ovaj atribut predstaviti kao listu listi, npr. [[1, 2, 3], [4, 5, 6], [7, 8, 9]]. U konstruktoru klase postaviti atribut *elementi* na praznu listu ako konstruktor nema argumente ili na listu listi koja se prosljeđuje kao argument konstruktora.\n",
    "\n",
    "Implementirati sljedeće funkcije članice:\n",
    "\n",
    "- <code>at(i, j)</code> Vraća element na poziciji (i,j)\n",
    "- <code>zeros(n, m)</code> Atribut *elementi* popunjava matricom dimenzija n x m koja je popunjena nulama\n",
    "- <code>ones(n, m)</code> Atribut *elementi* popunjava matricom dimenzija n x m koja je popunjena jedinicama\n",
    "- <code>eye(n)</code> Atribut elementi popunjava matricom dimenzija n x n koja se sastoji od nula osim na dijagonali (gdje se nalaze jedinice)"
   ]
  },
  {
   "cell_type": "markdown",
   "id": "fifth-granny",
   "metadata": {},
   "source": [
    "**Rješenje:**"
   ]
  },
  {
   "cell_type": "code",
   "execution_count": 22,
   "id": "viral-germany",
   "metadata": {
    "scrolled": true
   },
   "outputs": [],
   "source": [
    "class Matrica:\n",
    "    elementi = []\n",
    "\n",
    "    def __init__(self, elementi=None):\n",
    "        if elementi is not None:\n",
    "            Matrica.elementi = elementi\n",
    "\n",
    "    @classmethod\n",
    "    def at(cls, i, j):\n",
    "        return cls.elementi[i][j]\n",
    "\n",
    "    @classmethod\n",
    "    def zeros(cls, n, m):\n",
    "        cls.elementi = [[0] * n for _ in range(m)]\n",
    "        return cls()\n",
    "\n",
    "    @classmethod\n",
    "    def ones(cls, n, m):\n",
    "        cls.elementi = [[1] * n for _ in range(m)]\n",
    "        return cls()\n",
    "\n",
    "    @classmethod\n",
    "    def eye(cls, n):\n",
    "        cls.elementi = [[0] * n for _ in range(n)]\n",
    "        for i in range(n):\n",
    "            cls.elementi[i][i] = 1\n",
    "        return cls()\n"
   ]
  },
  {
   "cell_type": "markdown",
   "id": "framed-powder",
   "metadata": {},
   "source": [
    "Nakon implementacije funkcije, potrebno je biti moguće izvršiti programski kod ispod tako da daje prikazani ispis. Osim toga, potrebno je dodati još primjera kako bi se implementacija adekvatno testirala."
   ]
  },
  {
   "cell_type": "code",
   "execution_count": 30,
   "id": "choice-tribe",
   "metadata": {
    "scrolled": true
   },
   "outputs": [
    {
     "name": "stdout",
     "output_type": "stream",
     "text": [
      "Nakon inicijalizacije nul-matrice 2x3:\n",
      "0 0\n",
      "0 0\n",
      "0 0\n",
      "\n",
      "Element na poziciji 1 u matrici je: 1\n",
      "\n",
      "Nakon inicijalizacije jedinične matrice 5x5:\n",
      "1 0 0 0 0\n",
      "0 1 0 0 0\n",
      "0 0 1 0 0\n",
      "0 0 0 1 0\n",
      "0 0 0 0 1\n"
     ]
    }
   ],
   "source": [
    "matrica = Matrica()\n",
    "\n",
    "matrica.zeros(2, 3)\n",
    "\n",
    "print(\"Nakon inicijalizacije nul-matrice 2x3:\")\n",
    "for i in range(0, len(matrica.elementi)):\n",
    "    print(\" \".join(map(str, matrica.elementi[i]))) \n",
    " \n",
    "matrica.ones(3, 3)\n",
    "\n",
    "print(\"\\nElement na poziciji 1 u matrici je: \" + str(matrica.at(0, 0)) + \"\\n\") \n",
    "\n",
    "matrica.eye(5)\n",
    "\n",
    "print(\"Nakon inicijalizacije jedinične matrice 5x5:\")\n",
    "for i in range(0, len(matrica.elementi)):\n",
    "    print(\" \".join(map(str, matrica.elementi[i])))  "
   ]
  },
  {
   "cell_type": "code",
   "execution_count": 33,
   "id": "00036309",
   "metadata": {},
   "outputs": [
    {
     "name": "stdout",
     "output_type": "stream",
     "text": [
      "Nakon inicijalizacije nul-matrice 2x3:\n",
      "0 0 0 0 0 0 0 0 0 0\n",
      "\n",
      "Element na poziciji 1 u matrici je: 1\n",
      "\n",
      "Nakon inicijalizacije jedinične matrice 5x5:\n",
      "1 0 0 0\n",
      "0 1 0 0\n",
      "0 0 1 0\n",
      "0 0 0 1\n"
     ]
    }
   ],
   "source": [
    "matrica = Matrica()\n",
    "\n",
    "matrica.zeros(10, 1)\n",
    "\n",
    "print(\"Nakon inicijalizacije nul-matrice 2x3:\")\n",
    "for i in range(0, len(matrica.elementi)):\n",
    "    print(\" \".join(map(str, matrica.elementi[i]))) \n",
    " \n",
    "matrica.ones(1, 1)\n",
    "\n",
    "print(\"\\nElement na poziciji 1 u matrici je: \" + str(matrica.at(0, 0)) + \"\\n\") \n",
    "\n",
    "matrica.eye(4)\n",
    "\n",
    "print(\"Nakon inicijalizacije jedinične matrice 5x5:\")\n",
    "for i in range(0, len(matrica.elementi)):\n",
    "    print(\" \".join(map(str, matrica.elementi[i])))  "
   ]
  }
 ],
 "metadata": {
  "kernelspec": {
   "display_name": "Python 3 (ipykernel)",
   "language": "python",
   "name": "python3"
  },
  "language_info": {
   "codemirror_mode": {
    "name": "ipython",
    "version": 3
   },
   "file_extension": ".py",
   "mimetype": "text/x-python",
   "name": "python",
   "nbconvert_exporter": "python",
   "pygments_lexer": "ipython3",
   "version": "3.11.7"
  }
 },
 "nbformat": 4,
 "nbformat_minor": 5
}
