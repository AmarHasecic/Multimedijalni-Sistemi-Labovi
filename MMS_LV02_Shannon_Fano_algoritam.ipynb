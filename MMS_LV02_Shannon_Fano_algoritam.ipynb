{
 "cells": [
  {
   "cell_type": "markdown",
   "id": "silver-attribute",
   "metadata": {},
   "source": [
    "Univerzitet u Sarajevu\n",
    "<br> Elektrotehnički fakultet\n",
    "#### **Predmet: Multimedijalni Sistemi**\n",
    "\n",
    "# Laboratorijska vježba 02 :  Shannon-Fano algoritam kodiranja\n",
    "\n",
    "---"
   ]
  },
  {
   "cell_type": "markdown",
   "id": "genetic-thesis",
   "metadata": {},
   "source": [
    "Za izradu laboratorijske vježbe treba koristiti odgovarajuću Jupyter Notebook datoteku. Urađenu vježbu je potrebno konvertirati u PDF format, a zatim je PDF datoteku potrebno predati do postavljenog roka koristeći platformu Zamger."
   ]
  },
  {
   "cell_type": "markdown",
   "id": "protective-porcelain",
   "metadata": {},
   "source": [
    "Ime i prezime studenta, broj indeksa:"
   ]
  },
  {
   "cell_type": "markdown",
   "id": "still-england",
   "metadata": {},
   "source": [
    "Amar Hasečić, 2116/18673"
   ]
  },
  {
   "cell_type": "markdown",
   "id": "sitting-purple",
   "metadata": {},
   "source": [
    "Datum izrade izvještaja:"
   ]
  },
  {
   "cell_type": "markdown",
   "id": "everyday-turkey",
   "metadata": {},
   "source": [
    "19.3.2024."
   ]
  },
  {
   "cell_type": "markdown",
   "id": "recreational-forest",
   "metadata": {},
   "source": [
    "---\n",
    "\n",
    "## Zadatak 1.\n",
    "\n",
    "Potrebno je realizirati Shannon-Fano algoritam kodiranja putem funkcije <code>shannon_fano</code> koja kao parametar prima neku tekstualnu poruku, a kao rezultat vraća listu simbola i listu svih kodova dodijeljenih pojedinačnim simbolima. Potrebno je implementirati i funkcije <code>kodiraj</code> i <code>entropija</code>. Funkcija <code>kodiraj</code> kao parametre prima poruku, listu simbola i listu kodova, a kao rezultat vraća kodiranu poruku. Funkcija <code>entropija</code> kao parametar prima poruku, a kao rezultat vraća entropiju za tu poruku. \n",
    "\n",
    "Shannon-Fano algoritam predstavlja osnovni algoritam kodiranja na bazi vjerovatnoće pojavljivanja simbola u poruci. Sastoji se iz sljedećih koraka:\n",
    "\n",
    "1. Za zadanu listu simbola, izračunati vjerovatnoće pojavljivanja u poruci.\n",
    "\n",
    "2. Sortirati simbole prema frekvenciji od najveće do najmanje frekvencije.\n",
    "\n",
    "3. Podijeliti listu na dva dijela, po mogućnosti sa jednakim sumama vjerovatnoća ponavljanja.\n",
    "\n",
    "4. Lijeva ivica dobiva vrijednost 0, a desna 1 (svi kodovi koji počinju sa simbolima na lijevoj strani počinju sa 0, a na desnoj sa 1).\n",
    "\n",
    "5. Izvršavati korake 3 i 4 dok se potpuno ne izgradi binarno stablo (svi simboli postanu čvorovi stabla).\n",
    "\n",
    "Detaljne informacije o samom algoritmu moguće je pronaći u Poglavlju 2 materijala za rad na predmetu, na str. 21 - 25.\n",
    "\n",
    "Dobivena rješenja za kodne riječi nisu jedinstvena, tj. dobivena rješenja za kodne riječi ovise o specifičnim implementacijskim detaljima. Bitno je da implementacija bude realizirana u skladu sa gore opisanim koracima, tj. u skladu sa algoritmom opisanim na predavanjima."
   ]
  },
  {
   "cell_type": "markdown",
   "id": "beautiful-dialogue",
   "metadata": {},
   "source": [
    "**Rješenje:**"
   ]
  },
  {
   "cell_type": "code",
   "execution_count": 58,
   "id": "distinct-accountability",
   "metadata": {},
   "outputs": [],
   "source": [
    "def dodaj_kodove(simbol_p_kod, start, end, prefix=''):\n",
    "        if start == end:\n",
    "            return\n",
    "        elif start == end - 1:\n",
    "            simbol_p_kod[start] = (simbol_p_kod[start][0], simbol_p_kod[start][1], prefix)\n",
    "        else:\n",
    "            ukupna_vjerovatnoca = sum(simbol[1] for simbol in simbol_p_kod[start:end])\n",
    "            kumulativna_vjerovatnoca = 0\n",
    "            split_index = start\n",
    "            for i in range(start, end):\n",
    "                kumulativna_vjerovatnoca += simbol_p_kod[i][1]\n",
    "                if kumulativna_vjerovatnoca >= ukupna_vjerovatnoca / 2:\n",
    "                    split_index = i\n",
    "                    break\n",
    "            for i in range(start, split_index + 1):\n",
    "                simbol_p_kod[i] = (simbol_p_kod[i][0], simbol_p_kod[i][1], prefix + '0' + simbol_p_kod[i][2])\n",
    "            for i in range(split_index + 1, end):\n",
    "                simbol_p_kod[i] = (simbol_p_kod[i][0], simbol_p_kod[i][1], prefix + '1' + simbol_p_kod[i][2])\n",
    "            dodaj_kodove(simbol_p_kod, start, split_index + 1, prefix + '0')\n",
    "            dodaj_kodove(simbol_p_kod, split_index + 1, end, prefix + '1')\n",
    "\n",
    "\n",
    "def shannon_fano(poruka):\n",
    "\n",
    "    simboli = list(set(poruka))\n",
    "    vjerovatnoce = [0]*len(simboli)\n",
    "    kodovi = ['']*len(simboli)\n",
    "\n",
    "    for i in range(len(simboli)):\n",
    "        for simbol in poruka:\n",
    "            if simboli[i] == simbol:\n",
    "                vjerovatnoce[i]+=1\n",
    "        vjerovatnoce[i]/=len(poruka)\n",
    "    \n",
    "    simbol_p_kod = []\n",
    "    for i in range(len(simboli)):\n",
    "        simbol_p_kod.append((simboli[i], vjerovatnoce[i], kodovi[i]))\n",
    "    \n",
    "\n",
    "    simbol_p_kod = sorted(simbol_p_kod, key=lambda x: x[1], reverse=True)\n",
    "\n",
    "    dodaj_kodove(simbol_p_kod, 0, len(simbol_p_kod))\n",
    "\n",
    "    return [item[0] for item in simbol_p_kod], [item[2] for item in simbol_p_kod]\n",
    "\n",
    "\n"
   ]
  },
  {
   "cell_type": "code",
   "execution_count": 59,
   "id": "2235422f",
   "metadata": {},
   "outputs": [
    {
     "name": "stdout",
     "output_type": "stream",
     "text": [
      "Izvorna poruka je:\n",
      "CAADADBAADCAADBAADAD\n",
      "\n",
      "Poruka se sastoji od sljedecih simbola:\n",
      "A, D, B, C\n",
      "\n",
      "Skup dobivenih kodnih riječi je:\n",
      "0, 10, 110, 111\n"
     ]
    }
   ],
   "source": [
    "#Testing grounds\n",
    "poruka = \"CAADADBAADCAADBAADAD\"\n",
    "print(\"Izvorna poruka je:\")\n",
    "print(poruka)\n",
    "\n",
    "(simboli, kodovi) = shannon_fano(poruka)\n",
    "\n",
    "print(\"\\nPoruka se sastoji od sljedecih simbola:\")\n",
    "print(\", \".join(map(str, simboli))) \n",
    "\n",
    "print(\"\\nSkup dobivenih kodnih riječi je:\")\n",
    "print(\", \".join(map(str, kodovi))) "
   ]
  },
  {
   "cell_type": "markdown",
   "id": "residential-industry",
   "metadata": {},
   "source": [
    "Nakon implementacije funkcije, potrebno je biti moguće izvršiti programski kod ispod tako da daje prikazani ispis. Osim toga, potrebno je pored poruke \"CAADADBAADCAADBAADAD\" dodati još četiri primjera poruka kako bi se implementacija testirala. Dodatna četiri primjera poruka trebaju obavezno biti iz sljedećeg skupa {\"A\", \"DDDDDDDDDDDDDDDDDD\", \"ABBBBCDECCCCAAAAAAAAAAAAAA\", \"AAAAAAAAAABBBBBBCCCD\"}.  "
   ]
  },
  {
   "cell_type": "code",
   "execution_count": 2,
   "id": "wireless-cooper",
   "metadata": {},
   "outputs": [
    {
     "name": "stdout",
     "output_type": "stream",
     "text": [
      "Izvorna poruka je:\n",
      "CAADADBAADCAADBAADAD\n",
      "\n",
      "Poruka se sastoji od sljedecih simbola:\n",
      "A, D, B, C\n",
      "\n",
      "Skup dobivenih kodnih riječi je:\n",
      "0, 10, 110, 111\n",
      "\n",
      "Kod simbola A je 0\n",
      "\n",
      "Kod simbola D je 10\n",
      "\n",
      "Kod simbola B je 110\n",
      "\n",
      "Kod simbola C je 111\n",
      "\n",
      "Kodirana poruka je:\n",
      "1110010010110001011100101100010010\n",
      "\n",
      "Entropija poruke je:\n",
      "1.685\n",
      "\n",
      "Prosječna dužina kodne riječi u poruci je:\n",
      "1.7\n"
     ]
    }
   ],
   "source": [
    "import math\n",
    "poruka = \"CAADADBAADCAADBAADAD\"\n",
    "print(\"Izvorna poruka je:\")\n",
    "print(poruka)\n",
    "\n",
    "(simboli, kodovi) = shannon_fano(poruka)\n",
    "\n",
    "print(\"\\nPoruka se sastoji od sljedecih simbola:\")\n",
    "print(\", \".join(map(str, simboli))) \n",
    "\n",
    "print(\"\\nSkup dobivenih kodnih riječi je:\")\n",
    "print(\", \".join(map(str, kodovi))) \n",
    "\n",
    "kodirana = kodiraj(poruka, simboli, kodovi)\n",
    "\n",
    "for i in range(len(simboli)):\n",
    "  print(\"\\nKod simbola \" + simboli[i] + \" je \" + kodovi [i])\n",
    "\n",
    "print(\"\\nKodirana poruka je:\")\n",
    "print(kodirana)\n",
    "print(\"\\nEntropija poruke je:\")\n",
    "print(round(entropija(poruka),3))\n",
    "print(\"\\nProsječna dužina kodne riječi u poruci je:\")\n",
    "print(round(len(kodirana)/len(poruka),3))"
   ]
  }
 ],
 "metadata": {
  "kernelspec": {
   "display_name": "Python 3 (ipykernel)",
   "language": "python",
   "name": "python3"
  },
  "language_info": {
   "codemirror_mode": {
    "name": "ipython",
    "version": 3
   },
   "file_extension": ".py",
   "mimetype": "text/x-python",
   "name": "python",
   "nbconvert_exporter": "python",
   "pygments_lexer": "ipython3",
   "version": "3.11.8"
  }
 },
 "nbformat": 4,
 "nbformat_minor": 5
}
