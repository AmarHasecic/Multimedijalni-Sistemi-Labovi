{
 "cells": [
  {
   "cell_type": "markdown",
   "id": "frank-waterproof",
   "metadata": {},
   "source": [
    "Univerzitet u Sarajevu\n",
    "<br> Elektrotehnički fakultet\n",
    "#### **Predmet: Multimedijalni Sistemi**\n",
    "\n",
    "# Laboratorijska vježba 04:  Lempel-Ziv-Welch (LZW) algoritam kompresije\n"
   ]
  },
  {
   "cell_type": "markdown",
   "id": "sudden-enforcement",
   "metadata": {},
   "source": [
    "Za izradu laboratorijske vježbe treba koristiti odgovarajuću Jupyter Notebook datoteku. Urađenu vježbu je potrebno konvertirati u PDF format, a zatim je PDF datoteku potrebno predati do postavljenog roka koristeći platformu Zamger."
   ]
  },
  {
   "cell_type": "markdown",
   "id": "double-enlargement",
   "metadata": {},
   "source": [
    "Ime i prezime studenta, broj indeksa:"
   ]
  },
  {
   "cell_type": "markdown",
   "id": "painted-electricity",
   "metadata": {},
   "source": [
    "    Amar Hasečić, 2116/18673"
   ]
  },
  {
   "cell_type": "markdown",
   "id": "demographic-auditor",
   "metadata": {},
   "source": [
    "Datum izrade izvještaja:"
   ]
  },
  {
   "cell_type": "markdown",
   "id": "circular-courage",
   "metadata": {},
   "source": [
    "    02.04.2024"
   ]
  },
  {
   "cell_type": "markdown",
   "id": "demonstrated-prevention",
   "metadata": {},
   "source": [
    "---\n",
    "\n",
    "## Zadatak 1.\n",
    "\n",
    "Potrebno je realizirati funkciju <code>lzw</code> koja implementira **LZW algoritam kompresije**. Funkcija kao parametar prima neku tekstualnu poruku, a kao rezultat vraća listu simbola, listu svih kodova dodijeljenih pojedinačnim simbolima i kodiranu poruku. Kodirana (komprimirana) poruka treba biti u obliku liste cijelih brojeva.\n",
    "\n",
    "LZW algoritam kodiranja možete implementirati na temelju sljedećeg pseudokoda:\n",
    "\n",
    "![](https://docs.google.com/uc?export=download&id=1VZCpfOUa0v2brgwhSZ6T_IKeCTKaMAvI)\n",
    "\n",
    "Opis algoritma možete pronaći i u Poglavlju 2 u PDF materijalima na str. 33-36.\n",
    "\n",
    "Za početni rječnik možete uzeti fiksni rječnik koji se sastoji od sljedećih riječi dužine 1: A, B i C. Znak koji označava kraj ulaznog niza simbola je \\#."
   ]
  },
  {
   "cell_type": "markdown",
   "id": "accepted-empty",
   "metadata": {},
   "source": [
    "**Rješenje:**"
   ]
  },
  {
   "cell_type": "code",
   "execution_count": 60,
   "id": "sudden-spotlight",
   "metadata": {},
   "outputs": [],
   "source": [
    "def pronadjiVrijednost(lst, kljuc):\n",
    "    for item in lst:\n",
    "        if item[0] == kljuc:\n",
    "            return item[1]\n",
    "    return None\n",
    "\n",
    "\n",
    "def lzw(poruka):\n",
    "\n",
    "    kod = []\n",
    "    rjecnik = [(\"A\",1), (\"B\",2), (\"C\",3)]\n",
    "\n",
    "    s = poruka[0]\n",
    "    if s == '#':\n",
    "        return  \n",
    "\n",
    "    indeks = 1\n",
    "    while poruka[indeks]!='#':\n",
    "        c = poruka[indeks]\n",
    "\n",
    "        if pronadjiVrijednost(rjecnik,s+c):\n",
    "            s = s+c\n",
    "\n",
    "        else:\n",
    "            \n",
    "            kod.append(pronadjiVrijednost(rjecnik,s))\n",
    "            rjecnik.append((s+c, len(rjecnik)+1))\n",
    "            s = c\n",
    "\n",
    "        indeks+=1\n",
    "        \n",
    "    kod.append(pronadjiVrijednost(rjecnik,s))\n",
    "    \n",
    "    simboli = [item[0] for item in rjecnik]\n",
    "    kodovi = [item[1] for item in rjecnik]\n",
    "\n",
    "    return(simboli, kodovi, kod)"
   ]
  },
  {
   "cell_type": "markdown",
   "id": "marked-complaint",
   "metadata": {},
   "source": [
    "Nakon implementacije funkcije, potrebno je biti moguće izvršiti programski kod ispod tako da se dobije prikazani ispis. Osim toga, potrebno je pored poruke \"BABAABBACABABB#\" dodati još pet primjera poruka kako bi se implementacija testirala. Dodatnih pet primjera poruka treba obavezno biti iz sljedećeg skupa {\"A#\", \"ABBCBAABCCACBBABBCBBC#\", \"ABBABBAABBABBAA#\", \"BBBCABBCABBCAB#\", \"ABBCAABAAAAAAACCCBCC#\"}. "
   ]
  },
  {
   "cell_type": "code",
   "execution_count": 61,
   "id": "incorporate-latvia",
   "metadata": {},
   "outputs": [
    {
     "name": "stdout",
     "output_type": "stream",
     "text": [
      "Izvorna poruka je:\n",
      "BABAABBACABABB#\n",
      "\n",
      "Rječnik nakon kompresije sadrži sljedeće riječi:\n",
      "A, B, C, BA, AB, BAA, ABB, BAC, CA, ABA\n",
      "\n",
      "Kodovi za gore navedene riječi u respektivnom poretku su:\n",
      "1, 2, 3, 4, 5, 6, 7, 8, 9, 10\n",
      "\n",
      "Komprimirana poruka je:\n",
      "[2, 1, 4, 5, 4, 3, 5, 7]\n"
     ]
    }
   ],
   "source": [
    "poruka = \"BABAABBACABABB#\"\n",
    "\n",
    "print(\"Izvorna poruka je:\")\n",
    "print(poruka)\n",
    "\n",
    "(simboli, kodovi, kod) = lzw(poruka)\n",
    "\n",
    "print(\"\\nRječnik nakon kompresije sadrži sljedeće riječi:\")\n",
    "print(\", \".join(map(str, simboli))) \n",
    "\n",
    "print(\"\\nKodovi za gore navedene riječi u respektivnom poretku su:\")\n",
    "print(\", \".join(map(str, kodovi))) \n",
    "\n",
    "print(\"\\nKomprimirana poruka je:\")\n",
    "print(kod)"
   ]
  },
  {
   "cell_type": "markdown",
   "id": "centered-train",
   "metadata": {},
   "source": [
    "---\n",
    "\n",
    "## Zadatak 2.\n",
    "\n",
    "Potrebno je realizirati **dvije varijante** algoritma za **LZW dekompresiju**. Prvu **pojednostavljenu varijantu** treba realizirati implementacijom funkcije <code>reverse_lzw</code>, dok drugu **modificiranu varijantu** treba realizirati implementacijom funkcije <code>m_reverse_lzw</code>. Obje varijante funkcije kao parametar primaju ulazni kod u obliku liste cijelih brojeva, a kao rezultat vraćaju listu simbola, listu svih kodova dodijeljenih pojedinačnim simbolima i dekodiranu tekstualnu poruku. \n",
    "\n",
    "Pojednostavljenu varijantu LZW algoritma dekompresije možete implementirati prema sljedećem pseudokodu:\n",
    "\n",
    "![](https://docs.google.com/uc?export=download&id=1VAJMnOw1p4BmGBgxH_C4cMItuBDQZk5-)\n",
    "\n",
    "Opis algoritma LZW dekompresije možete pronaći i u Poglavlju 2 u PDF materijalima na str. 36-38.\n",
    "Prije implementacije modificirane varijante prvo proučite iz PDF materijala (Poglavlje 2, str. 38-41) u kojim slučajevima ta varijanta ne omogućava dekompresiju, a zatim implementirajte modificiranu varijantu tako što ćete već realiziranu pojednostavljenu varijantu modificirati na način kako je to opisano PDF materijalima u Poglavlju 2 na strani 41.  \n",
    "\n",
    "Za početni rječnik možete uzeti fiksni rječnik koji se sastoji od sljedećih riječi dužine 1: A, B i C. Znak koji označava kraj ulaznog niza simbola je \\#."
   ]
  },
  {
   "cell_type": "markdown",
   "id": "graduate-stranger",
   "metadata": {},
   "source": [
    "**Rješenje:**"
   ]
  },
  {
   "cell_type": "code",
   "execution_count": 58,
   "id": "according-store",
   "metadata": {},
   "outputs": [],
   "source": [
    "def pronadjiKljuc(lst, vrijednost):\n",
    "    for item in lst:\n",
    "        if item[1] == vrijednost:\n",
    "            return item[0]\n",
    "    return None\n",
    "\n",
    "def reverse_lzw(kod):\n",
    "    \n",
    "    poruka =\"\"\n",
    "    rjecnik = [(\"A\",1), (\"B\",2), (\"C\",3)]\n",
    "    s=\"\"\n",
    "\n",
    "    for i in range(len(kod)):\n",
    "        k = kod[i]\n",
    "        p = pronadjiKljuc(rjecnik,k)\n",
    "        poruka += p\n",
    "\n",
    "        if s!=\"\":\n",
    "            rjecnik.append((s+p[0],len(rjecnik)+1))\n",
    "        s=p\n",
    "\n",
    "    simboli = [item[0] for item in rjecnik]\n",
    "    kodovi = [item[1] for item in rjecnik]\n",
    "\n",
    "    return(simboli, kodovi, poruka)"
   ]
  },
  {
   "cell_type": "code",
   "execution_count": null,
   "id": "8b8e4efe",
   "metadata": {},
   "outputs": [],
   "source": [
    "def m_reverse_lzw(kod):\n",
    "    \n",
    "    poruka =\"\"\n",
    "    rjecnik = [(\"A\",1), (\"B\",2), (\"C\",3)]\n",
    "    s=\"\"\n",
    "\n",
    "    for i in range(len(kod)):\n",
    "        k = kod[i]\n",
    "        p = pronadjiKljuc(rjecnik,k)\n",
    "\n",
    "        #modifikacija\n",
    "        if p==\"\":\n",
    "            p=s+s[0]\n",
    "\n",
    "        poruka += p\n",
    "\n",
    "        if s!=\"\":\n",
    "            rjecnik.append((s+p[0],len(rjecnik)+1))\n",
    "        s=p\n",
    "\n",
    "    simboli = [item[0] for item in rjecnik]\n",
    "    kodovi = [item[1] for item in rjecnik]\n",
    "\n",
    "    return(simboli, kodovi, poruka)"
   ]
  },
  {
   "cell_type": "code",
   "execution_count": 59,
   "id": "7a09e4c2",
   "metadata": {},
   "outputs": [
    {
     "name": "stdout",
     "output_type": "stream",
     "text": [
      "Ulazni kod1 je:\n",
      "[2, 1, 4, 5, 4, 3, 5, 7]\n",
      "\n",
      "Rječnik nakon dekompresije je:\n",
      "A, B, C, BA, AB, BAA, ABB, BAC, CA, ABA\n",
      "\n",
      "Kodovi za gore navedene riječi u respektivnom poretku su:\n",
      "1, 2, 3, 4, 5, 6, 7, 8, 9, 10\n",
      "\n",
      "Dekomprimirana poruka1 je:\n",
      "BABAABBACABABB\n",
      "\n",
      "\n",
      "Ulazni kod2 je:\n",
      "[1, 2, 2, 4, 6, 7, 9, 1]\n"
     ]
    }
   ],
   "source": [
    "#Testing grounds \n",
    "\n",
    "kod1 = [2,1,4,5,4,3,5,7]\n",
    "kod2 = [1,2,2,4,6,7,9,1]\n",
    "\n",
    "print(\"Ulazni kod1 je:\")\n",
    "print(kod1)\n",
    "\n",
    "(simboli, kodovi, poruka1) = reverse_lzw(kod1)\n",
    "\n",
    "print(\"\\nRječnik nakon dekompresije je:\")\n",
    "print(\", \".join(map(str, simboli))) \n",
    "\n",
    "print(\"\\nKodovi za gore navedene riječi u respektivnom poretku su:\")\n",
    "print(\", \".join(map(str, kodovi))) \n",
    "\n",
    "print(\"\\nDekomprimirana poruka1 je:\")\n",
    "print(poruka1) \n",
    "\n",
    "print(\"\\n\\nUlazni kod2 je:\")\n",
    "print(kod2)\n",
    "\n",
    "(simboli, kodovi, poruka2) = m_reverse_lzw(kod2)\n",
    "\n",
    "print(\"\\nRječnik nakon dekompresije je:\")\n",
    "print(\", \".join(map(str, simboli))) \n",
    "\n",
    "print(\"\\n\\nKodovi za gore navedene riječi u respektivnom poretku su:\")\n",
    "print(\", \".join(map(str, kodovi))) \n",
    "\n",
    "print(\"\\nDekomprimirana poruka2 je:\")\n",
    "print(poruka2)\n"
   ]
  },
  {
   "cell_type": "markdown",
   "id": "fifty-comparative",
   "metadata": {},
   "source": [
    "Nakon implementacije funkcija, potrebno je biti moguće izvršiti programski kod ispod tako da se dobije prikazani ispis. Osim toga, potrebno je pored koda1 kojeg čini niz [2,1,4,5,4,3,5,7] dodati još dva primjera za ulazni kod1 kako bi se implementacija testirala. Dodatna dva primjera za kod1 trebaju obavezno biti iz sljedećeg skupa {[1],[1,2,2,3,2,1,4,3,3,1,7,8,5,14,3]}. Nadalje, potrebno je pored koda2 kojeg čini niz [1,2,2,4,6,7,9,1] dodati još dva primjera za kod2. Dodatna dva primjera za kod2 trebaju obavezno biti iz sljedećeg skupa {[2,4,3,1,5,7,2,6,2], [1,2,2,3,1,4,8,10,8,3,13,6,3]}. "
   ]
  },
  {
   "cell_type": "code",
   "execution_count": 4,
   "id": "loving-thumbnail",
   "metadata": {},
   "outputs": [
    {
     "name": "stdout",
     "output_type": "stream",
     "text": [
      "Ulazni kod1 je:\n",
      "[2, 1, 4, 5, 4, 3, 5, 7]\n",
      "\n",
      "Rječnik nakon dekompresije je:\n",
      "A, B, C, BA, AB, BAA, ABB, BAC, CA, ABA\n",
      "\n",
      "Kodovi za gore navedene riječi u respektivnom poretku su:\n",
      "1, 2, 3, 4, 5, 6, 7, 8, 9, 10\n",
      "\n",
      "Dekomprimirana poruka1 je:\n",
      "BABAABBACABABB\n",
      "\n",
      "\n",
      "Ulazni kod2 je:\n",
      "[1, 2, 2, 4, 6, 7, 9, 1]\n",
      "\n",
      "Rječnik nakon dekompresije je:\n",
      "A, B, C, AB, BB, BA, ABB, BAA, ABBA, ABBAA\n",
      "\n",
      "\n",
      "Kodovi za gore navedene riječi u respektivnom poretku su:\n",
      "1, 2, 3, 4, 5, 6, 7, 8, 9, 10\n",
      "\n",
      "Dekomprimirana poruka2 je:\n",
      "ABBABBAABBABBAA\n"
     ]
    }
   ],
   "source": [
    "kod1 = [2,1,4,5,4,3,5,7]\n",
    "kod2 = [1,2,2,4,6,7,9,1]\n",
    "\n",
    "print(\"Ulazni kod1 je:\")\n",
    "print(kod1)\n",
    "\n",
    "(simboli, kodovi, poruka1) = reverse_lzw(kod1)\n",
    "\n",
    "print(\"\\nRječnik nakon dekompresije je:\")\n",
    "print(\", \".join(map(str, simboli))) \n",
    "\n",
    "print(\"\\nKodovi za gore navedene riječi u respektivnom poretku su:\")\n",
    "print(\", \".join(map(str, kodovi))) \n",
    "\n",
    "print(\"\\nDekomprimirana poruka1 je:\")\n",
    "print(poruka1) \n",
    "\n",
    "print(\"\\n\\nUlazni kod2 je:\")\n",
    "print(kod2)\n",
    "\n",
    "(simboli, kodovi, poruka2) = m_reverse_lzw(kod2)\n",
    "\n",
    "print(\"\\nRječnik nakon dekompresije je:\")\n",
    "print(\", \".join(map(str, simboli))) \n",
    "\n",
    "print(\"\\n\\nKodovi za gore navedene riječi u respektivnom poretku su:\")\n",
    "print(\", \".join(map(str, kodovi))) \n",
    "\n",
    "print(\"\\nDekomprimirana poruka2 je:\")\n",
    "print(poruka2)"
   ]
  }
 ],
 "metadata": {
  "kernelspec": {
   "display_name": "Python 3 (ipykernel)",
   "language": "python",
   "name": "python3"
  },
  "language_info": {
   "codemirror_mode": {
    "name": "ipython",
    "version": 3
   },
   "file_extension": ".py",
   "mimetype": "text/x-python",
   "name": "python",
   "nbconvert_exporter": "python",
   "pygments_lexer": "ipython3",
   "version": "3.11.8"
  }
 },
 "nbformat": 4,
 "nbformat_minor": 5
}
